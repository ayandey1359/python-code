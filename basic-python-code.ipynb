{
 "cells": [
  {
   "cell_type": "code",
   "execution_count": 1,
   "id": "86b0bedc",
   "metadata": {
    "_cell_guid": "b1076dfc-b9ad-4769-8c92-a6c4dae69d19",
    "_uuid": "8f2839f25d086af736a60e9eeb907d3b93b6e0e5",
    "execution": {
     "iopub.execute_input": "2023-12-12T13:05:49.789238Z",
     "iopub.status.busy": "2023-12-12T13:05:49.788802Z",
     "iopub.status.idle": "2023-12-12T13:05:50.177384Z",
     "shell.execute_reply": "2023-12-12T13:05:50.176164Z"
    },
    "papermill": {
     "duration": 0.396141,
     "end_time": "2023-12-12T13:05:50.180119",
     "exception": false,
     "start_time": "2023-12-12T13:05:49.783978",
     "status": "completed"
    },
    "tags": []
   },
   "outputs": [],
   "source": [
    "# This Python 3 environment comes with many helpful analytics libraries installed\n",
    "# It is defined by the kaggle/python Docker image: https://github.com/kaggle/docker-python\n",
    "# For example, here's several helpful packages to load\n",
    "\n",
    "import numpy as np # linear algebra\n",
    "import pandas as pd # data processing, CSV file I/O (e.g. pd.read_csv)\n",
    "\n",
    "# Input data files are available in the read-only \"../input/\" directory\n",
    "# For example, running this (by clicking run or pressing Shift+Enter) will list all files under the input directory\n",
    "\n",
    "import os\n",
    "for dirname, _, filenames in os.walk('/kaggle/input'):\n",
    "    for filename in filenames:\n",
    "        print(os.path.join(dirname, filename))\n",
    "\n",
    "# You can write up to 20GB to the current directory (/kaggle/working/) that gets preserved as output when you create a version using \"Save & Run All\" \n",
    "# You can also write temporary files to /kaggle/temp/, but they won't be saved outside of the current session"
   ]
  },
  {
   "cell_type": "code",
   "execution_count": 2,
   "id": "f3e249ad",
   "metadata": {
    "execution": {
     "iopub.execute_input": "2023-12-12T13:05:50.187779Z",
     "iopub.status.busy": "2023-12-12T13:05:50.187246Z",
     "iopub.status.idle": "2023-12-12T13:05:50.192701Z",
     "shell.execute_reply": "2023-12-12T13:05:50.191679Z"
    },
    "papermill": {
     "duration": 0.01184,
     "end_time": "2023-12-12T13:05:50.194989",
     "exception": false,
     "start_time": "2023-12-12T13:05:50.183149",
     "status": "completed"
    },
    "tags": []
   },
   "outputs": [
    {
     "name": "stdout",
     "output_type": "stream",
     "text": [
      "1359\n",
      "Hello World\n"
     ]
    }
   ],
   "source": [
    "# print statement\n",
    "print(1359)\n",
    "print(\"Hello World\")"
   ]
  },
  {
   "cell_type": "code",
   "execution_count": 3,
   "id": "2e632377",
   "metadata": {
    "execution": {
     "iopub.execute_input": "2023-12-12T13:05:50.202924Z",
     "iopub.status.busy": "2023-12-12T13:05:50.202101Z",
     "iopub.status.idle": "2023-12-12T13:05:50.209973Z",
     "shell.execute_reply": "2023-12-12T13:05:50.208820Z"
    },
    "papermill": {
     "duration": 0.014645,
     "end_time": "2023-12-12T13:05:50.212443",
     "exception": false,
     "start_time": "2023-12-12T13:05:50.197798",
     "status": "completed"
    },
    "tags": []
   },
   "outputs": [
    {
     "data": {
      "text/plain": [
       "'\\nthis \\nis \\nmulti-line \\ncommand\\n'"
      ]
     },
     "execution_count": 3,
     "metadata": {},
     "output_type": "execute_result"
    }
   ],
   "source": [
    "# command using\n",
    "# this is single line command\n",
    "'''\n",
    "this \n",
    "is \n",
    "multi-line \n",
    "command\n",
    "'''"
   ]
  },
  {
   "cell_type": "code",
   "execution_count": 4,
   "id": "9f216b25",
   "metadata": {
    "execution": {
     "iopub.execute_input": "2023-12-12T13:05:50.219928Z",
     "iopub.status.busy": "2023-12-12T13:05:50.219204Z",
     "iopub.status.idle": "2023-12-12T13:05:50.223863Z",
     "shell.execute_reply": "2023-12-12T13:05:50.223114Z"
    },
    "papermill": {
     "duration": 0.011021,
     "end_time": "2023-12-12T13:05:50.226342",
     "exception": false,
     "start_time": "2023-12-12T13:05:50.215321",
     "status": "completed"
    },
    "tags": []
   },
   "outputs": [
    {
     "name": "stdout",
     "output_type": "stream",
     "text": [
      "Name: Ayan Dey \n",
      " phone no : +91 9531553365\n",
      "Name : Ayan Dey \t phone no : +91 9531553365\n"
     ]
    }
   ],
   "source": [
    "# backslash operator\n",
    "print(\"Name: Ayan Dey \\n phone no : +91 9531553365\") # \\n -> new line\n",
    "print(\"Name : Ayan Dey \\t phone no : +91 9531553365\") # \\t -> tab ( 4 bit space)"
   ]
  },
  {
   "cell_type": "code",
   "execution_count": 5,
   "id": "f34528b6",
   "metadata": {
    "execution": {
     "iopub.execute_input": "2023-12-12T13:05:50.234073Z",
     "iopub.status.busy": "2023-12-12T13:05:50.233450Z",
     "iopub.status.idle": "2023-12-12T13:05:50.238794Z",
     "shell.execute_reply": "2023-12-12T13:05:50.237721Z"
    },
    "papermill": {
     "duration": 0.012246,
     "end_time": "2023-12-12T13:05:50.241425",
     "exception": false,
     "start_time": "2023-12-12T13:05:50.229179",
     "status": "completed"
    },
    "tags": []
   },
   "outputs": [
    {
     "name": "stdout",
     "output_type": "stream",
     "text": [
      "\"my name is Ayan Dey\"\n",
      "'my name is Ayan Dey'\n"
     ]
    }
   ],
   "source": [
    "# adding hightension\n",
    "print(\"\\\"my name is Ayan Dey\\\"\")\n",
    "print(\"\\'my name is Ayan Dey\\'\")"
   ]
  },
  {
   "cell_type": "code",
   "execution_count": 6,
   "id": "f3e52f97",
   "metadata": {
    "execution": {
     "iopub.execute_input": "2023-12-12T13:05:50.249157Z",
     "iopub.status.busy": "2023-12-12T13:05:50.248781Z",
     "iopub.status.idle": "2023-12-12T13:05:50.256086Z",
     "shell.execute_reply": "2023-12-12T13:05:50.254863Z"
    },
    "papermill": {
     "duration": 0.014356,
     "end_time": "2023-12-12T13:05:50.258750",
     "exception": false,
     "start_time": "2023-12-12T13:05:50.244394",
     "status": "completed"
    },
    "tags": []
   },
   "outputs": [
    {
     "name": "stdout",
     "output_type": "stream",
     "text": [
      "my name isAyan Deymy phone no is 9531553365\n"
     ]
    },
    {
     "data": {
      "text/plain": [
       "'note: add (+) is use to concatinate two string\\nwhereas comma (,) use in numeric values'"
      ]
     },
     "execution_count": 6,
     "metadata": {},
     "output_type": "execute_result"
    }
   ],
   "source": [
    "# variables\n",
    "name= \"Ayan Dey\"\n",
    "phone= 9531553365\n",
    "print(\"my name is\"+name+\"my phone no is\",phone)\n",
    "'''note: add (+) is use to concatinate two string\n",
    "whereas comma (,) use in numeric values'''"
   ]
  },
  {
   "cell_type": "code",
   "execution_count": 7,
   "id": "08d6a742",
   "metadata": {
    "execution": {
     "iopub.execute_input": "2023-12-12T13:05:50.266550Z",
     "iopub.status.busy": "2023-12-12T13:05:50.266159Z",
     "iopub.status.idle": "2023-12-12T13:05:50.271119Z",
     "shell.execute_reply": "2023-12-12T13:05:50.270092Z"
    },
    "papermill": {
     "duration": 0.011798,
     "end_time": "2023-12-12T13:05:50.273651",
     "exception": false,
     "start_time": "2023-12-12T13:05:50.261853",
     "status": "completed"
    },
    "tags": []
   },
   "outputs": [
    {
     "name": "stdout",
     "output_type": "stream",
     "text": [
      "15\n",
      "7\n",
      "44\n",
      "\n"
     ]
    }
   ],
   "source": [
    "# numeric operators\n",
    "print(11+4) # add two no\n",
    "print(11-4) # substract two no\n",
    "print(11*4) # product two no\n",
    "print()"
   ]
  }
 ],
 "metadata": {
  "kaggle": {
   "accelerator": "none",
   "dataSources": [],
   "dockerImageVersionId": 30615,
   "isGpuEnabled": false,
   "isInternetEnabled": true,
   "language": "python",
   "sourceType": "notebook"
  },
  "kernelspec": {
   "display_name": "Python 3",
   "language": "python",
   "name": "python3"
  },
  "language_info": {
   "codemirror_mode": {
    "name": "ipython",
    "version": 3
   },
   "file_extension": ".py",
   "mimetype": "text/x-python",
   "name": "python",
   "nbconvert_exporter": "python",
   "pygments_lexer": "ipython3",
   "version": "3.10.12"
  },
  "papermill": {
   "default_parameters": {},
   "duration": 4.151257,
   "end_time": "2023-12-12T13:05:50.796861",
   "environment_variables": {},
   "exception": null,
   "input_path": "__notebook__.ipynb",
   "output_path": "__notebook__.ipynb",
   "parameters": {},
   "start_time": "2023-12-12T13:05:46.645604",
   "version": "2.4.0"
  }
 },
 "nbformat": 4,
 "nbformat_minor": 5
}
